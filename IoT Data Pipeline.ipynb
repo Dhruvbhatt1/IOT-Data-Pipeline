{
 "cells": [
  {
   "cell_type": "code",
   "execution_count": 0,
   "metadata": {
    "application/vnd.databricks.v1+cell": {
     "cellMetadata": {
      "byteLimit": 2048000,
      "rowLimit": 10000
     },
     "inputWidgets": {},
     "nuid": "5af31669-1b73-4c6c-8fa1-1ac51149d35e",
     "showTitle": false,
     "tableResultSettingsMap": {},
     "title": ""
    }
   },
   "outputs": [],
   "source": [
    "from pyspark.sql.functions import from_json, col, to_timestamp , to_date, avg\n",
    "from pyspark.sql.types import StructType, StructField, StringType, DoubleType\n",
    "from pyspark.sql.functions import col, unbase64, from_json\n"
   ]
  },
  {
   "cell_type": "code",
   "execution_count": null,
   "metadata": {},
   "outputs": [],
   "source": [
    "configs = {\"fs.azure.account.auth.type\": \"OAuth\",\n",
    "\"fs.azure.account.oauth.provider.type\": \"org.apache.hadoop.fs.azurebfs.oauth2.ClientCredsTokenProvider\",\n",
    "\"fs.azure.account.oauth2.client.id\": \"\",\n",
    "\"fs.azure.account.oauth2.client.secret\": '',\n",
    "\"fs.azure.account.oauth2.client.endpoint\": \"https://login.microsoftonline.com/<tenant-id>/oauth2/token\"}\n",
    "\n",
    "dbutils.fs.mount(\n",
    "source = \"abfss://bronze@iotstorageanalytics.dfs.core.windows.net\",\n",
    "mount_point = \"/mnt/iotdata\",\n",
    "extra_configs = configs)"
   ]
  },
  {
   "cell_type": "code",
   "execution_count": 0,
   "metadata": {
    "application/vnd.databricks.v1+cell": {
     "cellMetadata": {
      "byteLimit": 2048000,
      "rowLimit": 10000
     },
     "inputWidgets": {},
     "nuid": "88e4ec9a-39d0-474a-8f39-98f393e58108",
     "showTitle": false,
     "tableResultSettingsMap": {},
     "title": ""
    }
   },
   "outputs": [
    {
     "data": {
      "text/plain": [
       "[FileInfo(path='dbfs:/mnt/iotdata/IoT-event-hub/03/2025/01/03/20/12.json', name='12.json', size=4255, modificationTime=1735935221000),\n",
       " FileInfo(path='dbfs:/mnt/iotdata/IoT-event-hub/03/2025/01/03/20/21.json', name='21.json', size=6844, modificationTime=1735935761000),\n",
       " FileInfo(path='dbfs:/mnt/iotdata/IoT-event-hub/03/2025/01/03/20/23.json', name='23.json', size=5377, modificationTime=1735935881000),\n",
       " FileInfo(path='dbfs:/mnt/iotdata/IoT-event-hub/03/2025/01/03/20/25.json', name='25.json', size=7822, modificationTime=1735936001000),\n",
       " FileInfo(path='dbfs:/mnt/iotdata/IoT-event-hub/03/2025/01/03/20/27.json', name='27.json', size=3421, modificationTime=1735936121000)]"
      ]
     },
     "execution_count": 4,
     "metadata": {},
     "output_type": "execute_result"
    }
   ],
   "source": [
    "dbutils.fs.ls(\"/mnt/iotdata/IoT-event-hub/03/2025/01/03/20/\")"
   ]
  },
  {
   "cell_type": "code",
   "execution_count": 0,
   "metadata": {
    "application/vnd.databricks.v1+cell": {
     "cellMetadata": {
      "byteLimit": 2048000,
      "rowLimit": 10000
     },
     "inputWidgets": {},
     "nuid": "836ebb8b-1a89-407d-8009-19416d45f3f4",
     "showTitle": false,
     "tableResultSettingsMap": {},
     "title": ""
    }
   },
   "outputs": [],
   "source": [
    "bronzeDF = spark.read.json(\"/mnt/iotdata/IoT-event-hub/03/2025/01/03/20/*.json\")"
   ]
  },
  {
   "cell_type": "code",
   "execution_count": 0,
   "metadata": {
    "application/vnd.databricks.v1+cell": {
     "cellMetadata": {
      "byteLimit": 2048000,
      "rowLimit": 10000
     },
     "inputWidgets": {},
     "nuid": "445d2626-8dea-4aa3-83fc-08331684495b",
     "showTitle": false,
     "tableResultSettingsMap": {},
     "title": ""
    }
   },
   "outputs": [],
   "source": [
    "\n",
    "schema_of_payload = StructType([\n",
    "    StructField(\"deviceId\", StringType(), True),\n",
    "    StructField(\"temperature\", DoubleType(), True),\n",
    "    StructField(\"humidity\", DoubleType(), True),\n",
    "    StructField(\"timestamp\", StringType(), True)\n",
    "])\n"
   ]
  },
  {
   "cell_type": "code",
   "execution_count": 0,
   "metadata": {
    "application/vnd.databricks.v1+cell": {
     "cellMetadata": {
      "byteLimit": 2048000,
      "rowLimit": 10000
     },
     "inputWidgets": {},
     "nuid": "d387ecc2-521d-4d2e-b2f8-66f641f3837c",
     "showTitle": false,
     "tableResultSettingsMap": {},
     "title": ""
    }
   },
   "outputs": [],
   "source": [
    "bronzeDF = spark.read.json(\"/mnt/iotdata/IoT-event-hub/03/2025/01/03/20/*.json\")\n",
    "\n",
    "\n",
    "decodedDF = bronzeDF.withColumn(\"decodedBody\", unbase64(col(\"Body\")).cast(\"string\"))\n",
    "\n",
    "\n",
    "parsedDF = decodedDF.withColumn(\"payload\", from_json(col(\"decodedBody\"), schema_of_payload))\n",
    "\n",
    "parsedDF = parsedDF.select(\n",
    "    col(\"EnqueuedTimeUtc\"),\n",
    "    col(\"SystemProperties\"),\n",
    "    col(\"payload.deviceId\"),\n",
    "    col(\"payload.temperature\"),\n",
    "    col(\"payload.humidity\"),\n",
    "    col(\"payload.timestamp\")\n",
    ")"
   ]
  },
  {
   "cell_type": "code",
   "execution_count": 0,
   "metadata": {
    "application/vnd.databricks.v1+cell": {
     "cellMetadata": {
      "byteLimit": 2048000,
      "rowLimit": 10000
     },
     "inputWidgets": {},
     "nuid": "d590e647-5235-49eb-a879-9f9392685085",
     "showTitle": false,
     "tableResultSettingsMap": {},
     "title": ""
    }
   },
   "outputs": [],
   "source": [
    "silverDF = parsedDF \\\n",
    "    .withColumn(\"timestamp\", to_timestamp(col(\"timestamp\"), \"yyyy-MM-dd'T'HH:mm:ss'Z'\")) \\\n",
    "    .filter(col(\"temperature\").isNotNull() & col(\"humidity\").isNotNull())"
   ]
  },
  {
   "cell_type": "code",
   "execution_count": 0,
   "metadata": {
    "application/vnd.databricks.v1+cell": {
     "cellMetadata": {
      "byteLimit": 2048000,
      "rowLimit": 10000
     },
     "inputWidgets": {},
     "nuid": "8a8cd1d9-14f1-445c-8eaf-2260c5bc305b",
     "showTitle": false,
     "tableResultSettingsMap": {},
     "title": ""
    }
   },
   "outputs": [],
   "source": [
    "\n",
    "silverDF.write.format(\"delta\") \\\n",
    "    .mode(\"overwrite\") \\\n",
    "    .save(\"/mnt/iotdata/silver/\")"
   ]
  },
  {
   "cell_type": "code",
   "execution_count": 0,
   "metadata": {
    "application/vnd.databricks.v1+cell": {
     "cellMetadata": {
      "byteLimit": 2048000,
      "rowLimit": 10000
     },
     "inputWidgets": {},
     "nuid": "ab2e6fda-a520-4922-890e-a99fb1cb718f",
     "showTitle": false,
     "tableResultSettingsMap": {},
     "title": ""
    }
   },
   "outputs": [],
   "source": [
    "silverDF = spark.read.format(\"delta\").load(\"/mnt/iotdata/silver/\")"
   ]
  },
  {
   "cell_type": "code",
   "execution_count": 0,
   "metadata": {
    "application/vnd.databricks.v1+cell": {
     "cellMetadata": {
      "byteLimit": 2048000,
      "rowLimit": 10000
     },
     "inputWidgets": {},
     "nuid": "58571ba0-d079-4516-8adb-4873990f1db0",
     "showTitle": false,
     "tableResultSettingsMap": {},
     "title": ""
    }
   },
   "outputs": [],
   "source": [
    "silverDF = silverDF.drop(\"SystemProperties\")\n",
    "silverDF = silverDF.drop(\"timestamp\")\n",
    "\n",
    "filteredDF = silverDF.filter(col(\"temperature\") < 60)\n",
    "\n",
    "filteredDF.write.format(\"delta\") \\\n",
    "    .mode(\"overwrite\") \\\n",
    "    .save(\"/mnt/iotdata/gold/\")"
   ]
  },
  {
   "cell_type": "code",
   "execution_count": 0,
   "metadata": {
    "application/vnd.databricks.v1+cell": {
     "cellMetadata": {
      "byteLimit": 2048000,
      "rowLimit": 10000
     },
     "inputWidgets": {},
     "nuid": "dc03ef0a-0001-400e-a1c0-b937d257da0a",
     "showTitle": false,
     "tableResultSettingsMap": {},
     "title": ""
    }
   },
   "outputs": [
    {
     "name": "stdout",
     "output_type": "stream",
     "text": [
      "+----------------------------+-----------------+-----------+--------+\n",
      "|EnqueuedTimeUtc             |deviceId         |temperature|humidity|\n",
      "+----------------------------+-----------------+-----------+--------+\n",
      "|2025-01-03T20:11:19.4390000Z|mySimulatedDevice|23.5       |56.0    |\n",
      "|2025-01-03T20:11:21.2520000Z|mySimulatedDevice|23.5       |56.0    |\n",
      "|2025-01-03T20:11:22.7520000Z|mySimulatedDevice|23.5       |56.0    |\n",
      "|2025-01-03T20:11:24.1110000Z|mySimulatedDevice|23.5       |56.0    |\n",
      "|2025-01-03T20:11:25.5020000Z|mySimulatedDevice|23.5       |56.0    |\n",
      "|2025-01-03T20:11:26.7990000Z|mySimulatedDevice|23.5       |56.0    |\n",
      "|2025-01-03T20:12:37.2050000Z|mySimulatedDevice|23.5       |56.0    |\n",
      "|2025-01-03T20:12:38.5020000Z|mySimulatedDevice|23.5       |56.0    |\n",
      "|2025-01-03T20:12:39.6270000Z|mySimulatedDevice|23.5       |56.0    |\n",
      "|2025-01-03T20:20:49.9680000Z|mySimulatedDevice|27.18      |45.67   |\n",
      "|2025-01-03T20:20:55.0930000Z|mySimulatedDevice|24.56      |58.51   |\n",
      "|2025-01-03T20:21:00.2340000Z|mySimulatedDevice|20.41      |49.33   |\n",
      "|2025-01-03T20:21:05.3590000Z|mySimulatedDevice|25.37      |40.38   |\n",
      "|2025-01-03T20:21:10.4840000Z|mySimulatedDevice|26.25      |56.56   |\n",
      "|2025-01-03T20:21:15.5930000Z|mySimulatedDevice|22.3       |41.74   |\n",
      "|2025-01-03T20:21:20.7340000Z|mySimulatedDevice|25.2       |56.61   |\n",
      "|2025-01-03T20:21:25.8590000Z|mySimulatedDevice|26.66      |45.06   |\n",
      "|2025-01-03T20:21:30.9840000Z|mySimulatedDevice|20.42      |48.67   |\n",
      "|2025-01-03T20:21:36.1250000Z|mySimulatedDevice|20.14      |58.82   |\n",
      "|2025-01-03T20:21:41.2500000Z|mySimulatedDevice|25.06      |46.6    |\n",
      "+----------------------------+-----------------+-----------+--------+\n",
      "only showing top 20 rows\n",
      "\n"
     ]
    }
   ],
   "source": [
    "goldDF = spark.read.format(\"delta\").load(\"/mnt/iotdata/gold/\")\n",
    "\n",
    "goldDF.show(truncate=False)"
   ]
  }
 ],
 "metadata": {
  "application/vnd.databricks.v1+notebook": {
   "computePreferences": null,
   "dashboards": [],
   "environmentMetadata": {
    "base_environment": "",
    "client": "1"
   },
   "language": "python",
   "notebookMetadata": {
    "pythonIndentUnit": 4
   },
   "notebookName": "IoT Data Pipeline",
   "widgets": {}
  },
  "kernelspec": {
   "display_name": "Python 3",
   "language": "python",
   "name": "python3"
  },
  "language_info": {
   "codemirror_mode": {
    "name": "ipython",
    "version": 3
   },
   "file_extension": ".py",
   "mimetype": "text/x-python",
   "name": "python",
   "nbconvert_exporter": "python",
   "pygments_lexer": "ipython3",
   "version": "3.12.4"
  }
 },
 "nbformat": 4,
 "nbformat_minor": 0
}
